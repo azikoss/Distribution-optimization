{
 "cells": [
  {
   "cell_type": "code",
   "execution_count": 44,
   "metadata": {
    "ExecuteTime": {
     "end_time": "2017-05-09T11:58:43.294614",
     "start_time": "2017-05-09T11:58:43.286594"
    },
    "collapsed": false,
    "run_control": {
     "frozen": false,
     "marked": false,
     "read_only": false
    }
   },
   "outputs": [],
   "source": [
    "from gurobipy import *\n",
    "import pandas as pd\n",
    "\n",
    "transport_cost = 1 #eur per km\n",
    "M = 100000\n",
    "demand = 100 #per week\n",
    "dists = pd.read_csv('cities_dist.csv')"
   ]
  },
  {
   "cell_type": "code",
   "execution_count": 45,
   "metadata": {
    "ExecuteTime": {
     "end_time": "2017-05-09T11:59:10.046422",
     "start_time": "2017-05-09T11:58:45.125798"
    },
    "collapsed": false,
    "run_control": {
     "frozen": false,
     "marked": false,
     "read_only": false
    },
    "scrolled": false
   },
   "outputs": [
    {
     "name": "stdout",
     "output_type": "stream",
     "text": [
      "Fixed cost: 100000 --> ['Athens', 'Brussels', 'Hamburg', 'Madrid', 'Munich', 'Naples', 'Turin']\n",
      "Fixed cost: 110000 --> ['Athens', 'Brussels', 'Hamburg', 'Madrid', 'Munich', 'Rome', 'Turin']\n",
      "Fixed cost: 130000 --> ['Antwerp', 'Athens', 'Genoa', 'Madrid', 'Prague', 'Strasbourg']\n",
      "Fixed cost: 150000 --> ['Antwerp', 'Athens', 'Madrid', 'Munich', 'Turin']\n",
      "Fixed cost: 230000 --> ['Antwerp', 'Madrid', 'Munich', 'Turin']\n",
      "Fixed cost: 260000 --> ['Antwerp', 'Madrid', 'Milan']\n",
      "Fixed cost: 350000 --> ['Antwerp', 'Turin']\n",
      "Fixed cost: 740000 --> ['Strasbourg']\n"
     ]
    }
   ],
   "source": [
    "def get_dist_model(dists, transport_cost, fixed_cost, M, demand):\n",
    "    cities = list(dists)[1:]\n",
    "    \n",
    "    model = Model('Distribution')\n",
    "    model.Params.OutputFlag = 0\n",
    "    X = model.addVars(cities, vtype=GRB.BINARY, name=\"DC_opened\")\n",
    "    A = model.addVars(cities, cities, vtype=GRB.CONTINUOUS, name=\"Amount\") \n",
    "\n",
    "    model.addConstrs((A[DC, DA] >= 0 for DC in cities for DA in cities), name = \"Min_amount\")\n",
    "    model.addConstrs(((quicksum(A[DC, DA] for DC in cities) >= demand) for DA in cities), name=\"Demand\")\n",
    "    model.addConstrs(((quicksum(A[DC, DA] for DA in cities) <= M * X[DC]) for DC in cities), name=\"Zero_demand_if_DC_not_openned\")    \n",
    "    obj = quicksum(X[DC] * fixed_cost for DC in cities) + quicksum(quicksum(transport_cost * dists[DC][cities.index(DA)] * A[DC, DA] for DC in cities) for DA in cities)\n",
    "    model.setObjective(obj, GRB.MINIMIZE)\n",
    "    model.optimize()\n",
    "    if model.Status == GRB.OPTIMAL:\n",
    "    \topened_cities = [city for city, value in X.iteritems() if value.X > 0]\n",
    "    \tfor v in model.getVars():\n",
    "            if v.X != 0:\n",
    "            \tpass    \n",
    "            #\tprint(v.x)\n",
    "            #print(\"%s %f\" % (v.Varname, v.X))\n",
    "    else:\n",
    "    \topened_cities = ['Not optimal']\n",
    "    return opened_cities\n",
    "   \n",
    "prev = []\n",
    "for fixed_cost_tmp in range(100000,800000,10000):\n",
    "    DC = get_dist_model(dists, transport_cost, fixed_cost_tmp, M, demand)\n",
    "    if DC != prev:\n",
    "        print(\"Fixed cost: %d --> %s\" % (fixed_cost_tmp, DC))\n",
    "    prev = DC"
   ]
  },
  {
   "cell_type": "code",
   "execution_count": 3,
   "metadata": {
    "ExecuteTime": {
     "end_time": "2017-05-09T11:13:35.198301",
     "start_time": "2017-05-09T11:13:34.859404"
    },
    "collapsed": false
   },
   "outputs": [
    {
     "name": "stdout",
     "output_type": "stream",
     "text": [
      "['Antwerp', 'Turin']\n"
     ]
    }
   ],
   "source": [
    "from ipywidgets import widgets, interact\n",
    "\n",
    "def get_dist_model_interact(fixed_cost):\n",
    "    print(get_dist_model(dists, transport_cost, fixed_cost, M, demand))\n",
    "    \n",
    "interact(get_dist_model_interact, fixed_cost=widgets.IntSlider(min=1,max=800000,step=20000,value=100000))"
   ]
  },
  {
   "cell_type": "code",
   "execution_count": 2,
   "metadata": {
    "ExecuteTime": {
     "end_time": "2017-05-09T12:04:43.073432",
     "start_time": "2017-05-09T12:04:43.065411"
    },
    "collapsed": false
   },
   "outputs": [
    {
     "ename": "ImportError",
     "evalue": "No module named 'Basemap'",
     "output_type": "error",
     "traceback": [
      "\u001b[0;31m---------------------------------------------------------------------------\u001b[0m",
      "\u001b[0;31mImportError\u001b[0m                               Traceback (most recent call last)",
      "\u001b[0;32m<ipython-input-2-0fcbf14e7ede>\u001b[0m in \u001b[0;36m<module>\u001b[0;34m()\u001b[0m\n\u001b[0;32m----> 1\u001b[0;31m \u001b[1;32mimport\u001b[0m \u001b[0mBasemap\u001b[0m\u001b[1;33m\u001b[0m\u001b[0m\n\u001b[0m",
      "\u001b[0;31mImportError\u001b[0m: No module named 'Basemap'"
     ]
    }
   ],
   "source": [
    "import Basemap"
   ]
  }
 ],
 "metadata": {
  "anaconda-cloud": {},
  "hide_input": false,
  "kernelspec": {
   "display_name": "Python [default]",
   "language": "python",
   "name": "python3"
  },
  "language_info": {
   "codemirror_mode": {
    "name": "ipython",
    "version": 3
   },
   "file_extension": ".py",
   "mimetype": "text/x-python",
   "name": "python",
   "nbconvert_exporter": "python",
   "pygments_lexer": "ipython3",
   "version": "3.5.2"
  },
  "nbTranslate": {
   "displayLangs": [
    "*"
   ],
   "hotkey": "alt-t",
   "langInMainMenu": true,
   "sourceLang": "en",
   "targetLang": "fr",
   "useGoogleTranslate": true
  },
  "toc": {
   "colors": {
    "hover_highlight": "#DAA520",
    "running_highlight": "#FF0000",
    "selected_highlight": "#FFD700"
   },
   "moveMenuLeft": true,
   "nav_menu": {
    "height": "12px",
    "width": "252px"
   },
   "navigate_menu": true,
   "number_sections": true,
   "sideBar": true,
   "threshold": 4,
   "toc_cell": false,
   "toc_section_display": "block",
   "toc_window_display": false
  },
  "widgets": {
   "state": {
    "7a97430d4e6f418baa5d81391577fecf": {
     "views": [
      {
       "cell_index": 2
      }
     ]
    }
   },
   "version": "1.2.0"
  }
 },
 "nbformat": 4,
 "nbformat_minor": 1
}
