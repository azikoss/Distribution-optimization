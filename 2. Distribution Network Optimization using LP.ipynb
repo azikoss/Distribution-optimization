{
 "cells": [
  {
   "cell_type": "code",
   "execution_count": 13,
   "metadata": {
    "ExecuteTime": {
     "end_time": "2017-05-12T15:59:31.452067",
     "start_time": "2017-05-12T15:59:31.444069"
    },
    "collapsed": false,
    "run_control": {
     "frozen": false,
     "marked": false,
     "read_only": false
    }
   },
   "outputs": [],
   "source": [
    "# Load libraries and setup constansts\n",
    "from gurobipy import *\n",
    "import pandas as pd\n",
    "\n",
    "transport_cost = 1 #eur per km\n",
    "demand = 100 #per week\n",
    "dists = pd.read_csv('cities_dist.csv')"
   ]
  },
  {
   "cell_type": "code",
   "execution_count": 14,
   "metadata": {
    "ExecuteTime": {
     "end_time": "2017-05-12T15:59:31.755871",
     "start_time": "2017-05-12T15:59:31.475126"
    },
    "collapsed": false,
    "run_control": {
     "frozen": false,
     "marked": false,
     "read_only": false
    },
    "scrolled": false
   },
   "outputs": [
    {
     "name": "stdout",
     "output_type": "stream",
     "text": [
      "985500, for fixed cost of 100000 eur, following DCs will be opended: Athens, Brussels, Hamburg, Madrid, Munich, Naples, Turin\n"
     ]
    }
   ],
   "source": [
    "def get_dist_model(dists, transport_cost, fixed_cost, demand):\n",
    "    ### Optimizes distribution network\n",
    "    # vars:\n",
    "    # - dists: pandas data frame of distances between cities\n",
    "    # - transport_cost: transport costs per km\n",
    "    # - fixed_cost: fixed costs in eur\n",
    "    # - demand: demand in units\n",
    "    # returns: a list of distributions centeres to be openeded.\n",
    "    ###\n",
    "    \n",
    "    BIG_CONST = 1000000 #BIG_CONST = 1000000000000000\n",
    "    cities = list(dists)[1:]\n",
    "    \n",
    "    model = Model('Distribution Network')\n",
    "    model.Params.OutputFlag = 0 #turn-off printing detailed results\n",
    "    X = model.addVars(cities, vtype=GRB.BINARY, name=\"DC_opened\") \n",
    "    A = model.addVars(cities, cities, vtype=GRB.CONTINUOUS, name=\"Amount_transported\") \n",
    "\n",
    "    model.addConstrs((A[DC, DA] >= 0 for DC in cities for DA in cities), name = \"Transfered amount must be non-negative\")\n",
    "    model.addConstrs(((quicksum(A[DC, DA] for DC in cities) >= demand) for DA in cities), name=\"Demand must be satisfied\")\n",
    "    model.addConstrs(((quicksum(A[DC, DA] for DA in cities) <= BIG_CONST * X[DC]) for DC in cities), name=\"Demand is zero if a DC is not oppeneded\")    \n",
    "    obj = quicksum(X[DC] * fixed_cost for DC in cities) + quicksum(quicksum(transport_cost * dists[DC][cities.index(DA)] * A[DC, DA] for DC in cities) for DA in cities)\n",
    "    model.setObjective(obj, GRB.MINIMIZE)\n",
    "    model.optimize()\n",
    "    if model.Status == GRB.OPTIMAL: # if everything worked well\n",
    "    \topened_cities = [city for city, value in X.iteritems() if value.X > 0]\n",
    "    \t#for v in model.getVars():\n",
    "        #    if v.X != 0:\n",
    "        #    \tpass    \n",
    "        #    \tprint(v.x)\n",
    "        #    print(\"%s %f\" % (v.Varname, v.X))\n",
    "    else:\n",
    "    \topened_cities = ['Not optimal solution found. '] \n",
    "    return opened_cities, model.objVal\n",
    "   \n",
    "prev = []\n",
    "for fixed_cost_tmp in range(100000,100001,10000): #range of fixed cost computed    \n",
    "    DCs, objVal = get_dist_model(dists, transport_cost, fixed_cost_tmp, demand)\n",
    "    var_transport_cost = objVal - (len(DCs) * fixed_cost_tmp )\n",
    "    if DCs != prev:\n",
    "        print(\"%d, for fixed cost of %d eur, following DCs will be opended: %s\" % (var_transport_cost, fixed_cost_tmp, ', '.join(DCs)))\n",
    "    prev = DCs"
   ]
  },
  {
   "cell_type": "code",
   "execution_count": 15,
   "metadata": {
    "ExecuteTime": {
     "end_time": "2017-05-12T15:59:32.001527",
     "start_time": "2017-05-12T15:59:31.756846"
    },
    "collapsed": false,
    "run_control": {
     "frozen": false,
     "read_only": false
    }
   },
   "outputs": [
    {
     "name": "stdout",
     "output_type": "stream",
     "text": [
      "(['Athens', 'Brussels', 'Hamburg', 'Madrid', 'Munich', 'Naples', 'Turin'], 1685500.0)\n"
     ]
    },
    {
     "data": {
      "text/plain": [
       "<function __main__.get_dist_model_interact>"
      ]
     },
     "execution_count": 15,
     "metadata": {},
     "output_type": "execute_result"
    }
   ],
   "source": [
    "# optimization model where fixed cost is a parameter of a slider\n",
    "from ipywidgets import widgets, interact\n",
    "\n",
    "def get_dist_model_interact(fixed_cost):\n",
    "    print(get_dist_model(dists, transport_cost, fixed_cost, demand))\n",
    "    \n",
    "interact(get_dist_model_interact, fixed_cost=widgets.IntSlider(min=1,max=800000,step=20000,value=100000))"
   ]
  }
 ],
 "metadata": {
  "anaconda-cloud": {},
  "hide_input": false,
  "kernelspec": {
   "display_name": "Python [default]",
   "language": "python",
   "name": "python3"
  },
  "language_info": {
   "codemirror_mode": {
    "name": "ipython",
    "version": 3
   },
   "file_extension": ".py",
   "mimetype": "text/x-python",
   "name": "python",
   "nbconvert_exporter": "python",
   "pygments_lexer": "ipython3",
   "version": "3.5.2"
  },
  "nbTranslate": {
   "displayLangs": [
    "*"
   ],
   "hotkey": "alt-t",
   "langInMainMenu": true,
   "sourceLang": "en",
   "targetLang": "fr",
   "useGoogleTranslate": true
  },
  "toc": {
   "colors": {
    "hover_highlight": "#DAA520",
    "running_highlight": "#FF0000",
    "selected_highlight": "#FFD700"
   },
   "moveMenuLeft": true,
   "nav_menu": {
    "height": "12px",
    "width": "252px"
   },
   "navigate_menu": true,
   "number_sections": true,
   "sideBar": true,
   "threshold": 4,
   "toc_cell": false,
   "toc_section_display": "block",
   "toc_window_display": false
  }
 },
 "nbformat": 4,
 "nbformat_minor": 1
}
