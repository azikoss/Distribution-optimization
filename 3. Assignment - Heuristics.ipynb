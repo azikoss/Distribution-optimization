{
 "cells": [
  {
   "cell_type": "markdown",
   "metadata": {},
   "source": [
    "# Distrubution network solved using Simulated Anneling\n",
    "\n",
    "This is the third assingment of Business Analytics module. The assignment solves the same problem like the second one, finding optimal locations for distrubution centers (DCs) in Europe. However, this time, a heuristic is used and a number of DCs is fixed to seven.\n",
    "\n",
    "## Procedure\n",
    "A heuristics chosen for this assignment is <a href=\"https://en.wikipedia.org/wiki/Simulated_annealing\">Simulated Annealing</a> with following setting:\n",
    "\n",
    "* The first seven cities from the data are taken as the initial set of DCs (i.e., temporary solution = ['Amsterdam', 'Antwerp', 'Athens', 'Barcelona', 'Berlin', 'Bern','Brussels'])\n",
    "* Every iteration, one of the cities of the temporary solution is randomly switched with a different one that is not in the set. \n",
    "* Parameters were set as T = 1000 and it is decreased in every step with a factor of 0.999. The algorithm stops when T < 5. Value of T was selected to be similar to the mean (i.e., 1105 km) of distance between cities. Stopping criteria was selected given the exponential function of Simulated Anneling. Values lower than 5 yields extermnly small numbers and it makes no sense to inspect solutions further (e.g., decrease in cost delta by 50 while having T = 5 yields math.exp(-50 / 5) = 4.53e-05.)\n",
    "* Temporary solutions are evaluted such that a temporary distance matrix is created having DCs in columns and all cities in row. Than, minimum of each row of this matrix is found. The sum of all rows is equal to the total cost. This step is extermly fast.\n",
    "* Each time, it is evaluated whether the cost for a temporary solution has been computed earlier. This is done in a way that each city is represent with a unique id (i.e., 1--37). A temporary set of DCs is then represented by a 'blueprint' that can be expressed as $$\\sum_{id}^{Temp. DCs} 2^{id}$$ Finally, each blueprint is stored in a sorted array and every time before a computation of a new temporary solution, binary search is used to search in this array.\n",
    "\n",
    "## Results\n",
    "The results obtained:\n",
    "* Avarage cost found in 30 runs is 11307.27 ([1]) eur and it was found in avg in 0.86s and in 528 iterations (T = 1000, step = 0.99).\n",
    "* Avarage cost found in 30 runs is 10642.40 eur and it was found in avg in 8.21s and in 5296 iterations (T = 1000, step = 0.999).\n",
    "\n",
    "Plotting time and number of iterations vs costs for one particular solution (T = 1000, step = 0.999) resulted in following figure:\n",
    "<img src=\"time-iter-vs-cost.png\" />\n",
    "\n",
    "According to the solution displayed on the figure, following cities would be opended as DCs: Prague, Antwerp, Lisbon, Turin, Naples, Stuttgart, and Athens. The costs will be 10331 eur. These cities on a Google Maps together with the optimal solutions:\n",
    "<img src=\"heur-map.png\" width=\"450\" />\n",
    "\n",
    "[1] - note that all numbers related to costs are in units of 100."
   ]
  },
  {
   "cell_type": "code",
   "execution_count": 1,
   "metadata": {
    "ExecuteTime": {
     "end_time": "2017-05-22T11:08:19.135510",
     "start_time": "2017-05-22T11:08:16.944961"
    },
    "collapsed": false,
    "run_control": {
     "frozen": false,
     "read_only": false
    }
   },
   "outputs": [],
   "source": [
    "# Load libraries and setup constansts\n",
    "from gurobipy import *\n",
    "import pandas as pd\n",
    "import numpy as np\n",
    "from bokeh.io import show, output_notebook\n",
    "from bokeh.models import (\n",
    "  GMapPlot, GMapOptions, ColumnDataSource, Circle, DataRange1d, PanTool, WheelZoomTool, BoxSelectTool\n",
    ")\n",
    "from random import randint\n",
    "import math, random, bisect, time\n",
    "import matplotlib.pyplot as plt\n",
    "\n",
    "#loading the distance matrix\n",
    "dists = pd.read_csv('cities_dist.csv')\n",
    "dists = dists.drop('Distance (km)', 1) #dropping the first column with \n",
    "n_clusters = 7 # count of DCs\n",
    "cities = np.array(list(dists))\n",
    "n_cities = dists.shape[0]\n",
    "\n",
    "#loading gps coordinates of the cities\n",
    "gps_coords = pd.read_csv('gps.txt')\n",
    "gps_coords_opt = gps_coords[gps_coords['Address'].isin(['Athens', 'Brussels', 'Hamburg', 'Madrid', 'Munich', 'Naples', 'Turin'])]"
   ]
  },
  {
   "cell_type": "code",
   "execution_count": 2,
   "metadata": {
    "ExecuteTime": {
     "end_time": "2017-05-22T11:08:19.299960",
     "start_time": "2017-05-22T11:08:19.136521"
    },
    "collapsed": false,
    "run_control": {
     "frozen": false,
     "read_only": false
    }
   },
   "outputs": [
    {
     "data": {
      "image/png": "[encoded data removed]",
      "text/plain": [
       "<matplotlib.figure.Figure at 0x64c8ee7828>"
      ]
     },
     "metadata": {},
     "output_type": "display_data"
    },
    {
     "name": "stdout",
     "output_type": "stream",
     "text": [
      "Given probability of 0.10, difference can be at most 12. This is considered small enough for algorithm to stop\n"
     ]
    }
   ],
   "source": [
    "#Inspecting how the exponential function from simulatted anneling work and finding optimal stoppin parameter for T. \n",
    "T_stop= 5\n",
    "T = 1000\n",
    "cost_delta = np.array(range(0, T))\n",
    "anneling_data = np.exp(-cost_delta / T_stop)\n",
    "plt.plot(anneling_data)\n",
    "plt.ylabel('Probab')\n",
    "plt.show()\n",
    "probab_cutoff = 0.1\n",
    "print(\"Given probability of %.2f, difference can be at most %d. This is considered small enough for algorithm to stop\"\n",
    "      % (probab_cutoff, np.sum(anneling_data > 0.1)))"
   ]
  },
  {
   "cell_type": "code",
   "execution_count": 3,
   "metadata": {
    "ExecuteTime": {
     "end_time": "2017-05-22T11:08:19.366150",
     "start_time": "2017-05-22T11:08:19.301936"
    },
    "collapsed": false,
    "run_control": {
     "frozen": false,
     "read_only": false
    },
    "scrolled": false
   },
   "outputs": [],
   "source": [
    "#simulated anneling\n",
    "def get_cost(DCs, dists):    \n",
    "    DCs_dist = dists.ix[DCs]\n",
    "    sum = np.sum(DCs_dist.apply(lambda row: np.min(row),axis=0))\n",
    "    return sum\n",
    "\n",
    "def randomly_generate(DCs, n_clusters, n_cities, cities):\n",
    "    \"\"\"Randomly exchange one of the DCs for another city.\"\"\"\n",
    "    DC_replace = randint(0, n_clusters - 1)\n",
    "    city_non_selected = list(set(range(0,n_cities)) - set(DCs))\n",
    "    city_select = random.choice(city_non_selected)\n",
    "    DCs[DC_replace] = city_select\n",
    "    return DCs \n",
    "\n",
    "def compute_DC_blueprint(DCs):\n",
    "    \"\"\"Returns blueprint of a set of DCs\"\"\"\n",
    "    return np.sum([2**DC for DC in DCs])\n",
    "\n",
    "\n",
    "def binary_search(a, x):\n",
    "    'Locate the leftmost value exactly equal to x. Return true if value is found.'\n",
    "    i = bisect.bisect_left(a, x)\n",
    "    if i != len(a) and a[i] == x:\n",
    "        return True\n",
    "    return False\n",
    "\n",
    "def simu_anneling_dc(T = 1000, T_stop = 5, step = 0.999):\n",
    "    \"\"\"Runs simulated anneling.\"\"\"\n",
    "    DCs_cur = list(range(0, n_clusters)) #take the first 7 cities as the starting situation\n",
    "    cost_cur = get_cost(DCs_cur, dists)\n",
    "    DCs_best, cost_best = DCs_cur[:], cost_cur \n",
    "    i = 0\n",
    "    DCs_computed = [] #blueprint of DCs for which the distances were computed.\n",
    "    costs_best_plot, time_best_plot, num_iter_plot = [], [], [] #array to track the best resutls in time\n",
    "    time_start = time.time()\n",
    "    while True:\n",
    "        DCs_tmp = randomly_generate(DCs_cur, n_clusters, n_cities, cities)\n",
    "        DCs_tmp_blueprint = compute_DC_blueprint(DCs_tmp)\n",
    "        if not binary_search(DCs_computed, DCs_tmp_blueprint): #only if we have not visited the \n",
    "            bisect.insort_left(DCs_computed, DCs_tmp_blueprint) \n",
    "            cost_tmp = get_cost(DCs_cur, dists)\n",
    "            cost_delta =  cost_cur - cost_tmp # i want lower costs    \n",
    "            if cost_delta > 0 or math.exp(cost_delta / T) > random.random():\n",
    "                DCs_cur, cost_cur = DCs_tmp[:], cost_tmp        \n",
    "                if cost_best > cost_cur:\n",
    "                    cost_best = cost_cur\n",
    "                    DCs_best = DCs_tmp[:]        \n",
    "                elapsed = time.time() - time_start\n",
    "                costs_best_plot.append(cost_cur)\n",
    "                time_best_plot.append(elapsed)\n",
    "                num_iter_plot.append(i)\n",
    "                #print(\"%dx, %.1fs,   %d: %s\" % (i, elapsed, cost_tmp, cities[DCs_tmp] ))  \n",
    "        T = T * step\n",
    "        i+=1\n",
    "        if T < T_stop:\n",
    "            break\n",
    "    return time_best_plot, costs_best_plot, DCs_best, cost_best, num_iter_plot"
   ]
  },
  {
   "cell_type": "code",
   "execution_count": 4,
   "metadata": {
    "ExecuteTime": {
     "end_time": "2017-05-22T11:08:20.862171",
     "start_time": "2017-05-22T11:08:19.367106"
    },
    "collapsed": false
   },
   "outputs": [
    {
     "name": "stdout",
     "output_type": "stream",
     "text": [
      "0 / 1\n",
      "Avarage cost found in 1 runs is 10775.00 and it was found in avg in 1.26s and in 447 iterations\n"
     ]
    }
   ],
   "source": [
    "#evaluating of simulated anneling \n",
    "def evalute_simulated_analing_loop(iterations, T, T_stop, step):\n",
    "    cost_best_loop, time_best_loop, num_iters = [], [], []\n",
    "    \n",
    "    for i in range(iterations):\n",
    "        time_best_plot, _, _, cost_best, num_iter_plot = simu_anneling_dc(T = T, T_stop = T_stop, step = step)\n",
    "        cost_best_loop.append(cost_best)\n",
    "        time_best_loop.append(time_best_plot[-1])\n",
    "        num_iters.append(num_iter_plot[-1])\n",
    "        print(\"%d / %d\" % (i, iterations))\n",
    "\n",
    "    print(\"Avarage cost found in %d runs is %.2f and it was found in avg in %.2fs and in %d iterations\" % \n",
    "          (iterations, np.mean(cost_best_loop), np.mean(time_best_loop), np.mean(num_iters)))\n",
    "    \n",
    "evalute_simulated_analing_loop(iterations = 1, T = 1000, T_stop = 5, step = 0.99)\n",
    "#evalute_simulated_analing_loop(iterations = 30, T = 1000, T_stop = 5, step = 0.999)"
   ]
  },
  {
   "cell_type": "code",
   "execution_count": 5,
   "metadata": {
    "ExecuteTime": {
     "end_time": "2017-05-22T11:08:36.384325",
     "start_time": "2017-05-22T11:08:20.864176"
    },
    "collapsed": false,
    "run_control": {
     "frozen": false,
     "read_only": false
    }
   },
   "outputs": [
    {
     "name": "stdout",
     "output_type": "stream",
     "text": [
      "The cost is 10691 and DCs are ['Brussels' 'Turin' 'Geneva' 'Naples' 'Athens' 'Berlin' 'Madrid'] \n"
     ]
    },
    {
     "data": {
      "image/png": "[encoded data removed]",
      "text/plain": [
       "<matplotlib.figure.Figure at 0x64ce414da0>"
      ]
     },
     "metadata": {},
     "output_type": "display_data"
    }
   ],
   "source": [
    "#plotting results of simulated anneling using a single iteration\n",
    "time_best_plot, costs_best_plot, DCs_best, cost_best, num_iter_plot = simu_anneling_dc(T = 1000, T_stop = 5, step = 0.999)\n",
    "\n",
    "print(\"The cost is %d and DCs are %s \" % (cost_best, cities[DCs_best]))\n",
    "seconds_elapsed = math.ceil(time_best_plot[-1])\n",
    "\n",
    "plt.figure(figsize=(20,5))\n",
    "plt.subplot(121)\n",
    "heur_line, = plt.plot(num_iter_plot, costs_best_plot)\n",
    "opt_line, = plt.plot([0,num_iter_plot[-1] ],[9855,9855])\n",
    "plt.ylabel('Fixed cost / 100 [eur]')\n",
    "plt.xlabel('#iterations')\n",
    "plt.legend([heur_line, opt_line], ['Heuristic', 'Optimum'])\n",
    "\n",
    "plt.subplot(122)\n",
    "heur_line, = plt.plot(time_best_plot, costs_best_plot)\n",
    "opt_line2, = plt.plot([0,time_best_plot[-1] ],[9855,9855])\n",
    "#plt.ylabel('Fixed cost / 100 [eur]')\n",
    "plt.xlabel('Time[s]')\n",
    "plt.legend([heur_line, opt_line2],['Heuristic', 'Optimum'])\n",
    "\n",
    "plt.suptitle('Best fixed cost found is %d eur' % cost_best)\n",
    "plt.show()"
   ]
  },
  {
   "cell_type": "code",
   "execution_count": 6,
   "metadata": {
    "ExecuteTime": {
     "end_time": "2017-05-22T11:08:36.501232",
     "start_time": "2017-05-22T11:08:36.386299"
    },
    "collapsed": true
   },
   "outputs": [],
   "source": [
    "#visulizing the best obtained DCs in a map\n",
    "def get_plot_cities(gps_coords, gps_coords_heur, gps_coords_opt):\n",
    "    \"\"\"Get a GG maps plot and with plotted cities of optimal and heuristic solution.\"\"\"\n",
    "    map_options = GMapOptions(lat=53.55, lng=9.99, map_type=\"roadmap\", zoom=4)\n",
    "    plot = GMapPlot(x_range=DataRange1d(), y_range=DataRange1d(), map_options=map_options)\n",
    "    plot.title.text = \"Green = DCs determined by LP | Red = DCs determined by a heuristic\" \n",
    "    plot.api_key = \"GOOGLE_API_HERE\"\n",
    "    all_cities = ColumnDataSource(data= dict(lat=gps_coords['Latitude'], lon=gps_coords['Longitude'],))\n",
    "    heur_DC = ColumnDataSource(data=dict(lat=gps_coords_heur['Latitude'], lon=gps_coords_heur['Longitude'],))\n",
    "    opt_DC = ColumnDataSource(data=dict(lat=gps_coords_opt['Latitude'], lon=gps_coords_opt['Longitude'],))\n",
    "\n",
    "    circle_all = Circle(x=\"lon\", y=\"lat\", size=15, fill_color=\"blue\", fill_alpha=0.7, line_color=None)\n",
    "    plot.add_glyph(all_cities, circle_all)\n",
    "\n",
    "    circle_opt = Circle(x=\"lon\", y=\"lat\", size=12, fill_color=\"#10ff00\", fill_alpha=1, line_color=None)\n",
    "    plot.add_glyph(opt_DC, circle_opt)\n",
    "\n",
    "    circle_heur = Circle(x=\"lon\", y=\"lat\", size=8, fill_color=\"#ff7200\", fill_alpha=1, line_color=None)\n",
    "    plot.add_glyph(heur_DC, circle_heur)\n",
    "\n",
    "    plot.add_tools(PanTool(), WheelZoomTool(), BoxSelectTool())\n",
    "    return plot\n",
    "\n",
    "gps_coords_heur = gps_coords[gps_coords['Address'].isin(cities[DCs_best])] #getting GPS coords\n",
    "show(get_plot_cities(gps_coords, gps_coords_heur, gps_coords_opt)) "
   ]
  },
  {
   "cell_type": "code",
   "execution_count": 7,
   "metadata": {
    "ExecuteTime": {
     "end_time": "2017-05-22T11:08:36.526311",
     "start_time": "2017-05-22T11:08:36.502234"
    },
    "collapsed": false,
    "run_control": {
     "frozen": false,
     "read_only": false
    }
   },
   "outputs": [
    {
     "name": "stderr",
     "output_type": "stream",
     "text": [
      ".\n",
      "----------------------------------------------------------------------\n",
      "Ran 1 test in 0.006s\n",
      "\n",
      "OK\n"
     ]
    },
    {
     "data": {
      "text/plain": [
       "<unittest.runner.TextTestResult run=1 errors=0 failures=0>"
      ]
     },
     "execution_count": 7,
     "metadata": {},
     "output_type": "execute_result"
    }
   ],
   "source": [
    "#unit testing of the anneling\n",
    "import unittest\n",
    "class TestAnnealing(unittest.TestCase):    \n",
    "    def test_get_cost(self):\n",
    "        \"\"\"Testing whether optimal DCs cost is equal to the value obtained from gurobi.\"\"\"\n",
    "        DCs_opt = ['Athens', 'Brussels', 'Hamburg', 'Madrid', 'Munich', 'Naples', 'Turin']\n",
    "        DCs_opt_ind = [i for i in range(len(cities)) if cities[i] in DCs_opt]\n",
    "        cost_opt = 9855\n",
    "        self.assertEqual(get_cost(DCs_opt_ind, dists), cost_opt)\n",
    "\n",
    "a = TestAnnealing()\n",
    "suite = unittest.TestLoader().loadTestsFromModule(a)\n",
    "unittest.TextTestRunner().run(suite)"
   ]
  },
  {
   "cell_type": "markdown",
   "metadata": {},
   "source": [
    "## Distrubution network solved using Hierchical clustering"
   ]
  },
  {
   "cell_type": "code",
   "execution_count": 8,
   "metadata": {
    "ExecuteTime": {
     "end_time": "2017-05-22T11:08:37.229204",
     "start_time": "2017-05-22T11:08:36.530309"
    },
    "collapsed": false
   },
   "outputs": [
    {
     "name": "stdout",
     "output_type": "stream",
     "text": [
      "DC Bern serves: ['Bern' 'Geneva' 'Genoa' 'Lyon' 'Marseille' 'Milan' 'Munich' 'Nice'\n",
      " 'Prague' 'Strasbourg' 'Stuttgart' 'Turin' 'Venice' 'Vienna' 'Zurich']\n",
      "DC Naples serves: ['Naples' 'Rome']\n",
      "DC Antwerp serves: ['Amsterdam' 'Antwerp' 'Berlin' 'Brussels' 'Calais' 'Cologne' 'Copenhagen'\n",
      " 'Frankfurt' 'Hamburg' 'Le Havre' 'London' 'Luxembourg' 'Paris' 'Rotterdam'\n",
      " 'The Hague']\n",
      "DC Athens serves: ['Athens']\n",
      "DC Edinburgh serves: ['Edinburgh']\n",
      "DC Barcelona serves: ['Barcelona' 'Madrid']\n",
      "DC Lisbon serves: ['Lisbon']\n",
      "Obj value 11986 and it was retrived in 0.0091s.\n"
     ]
    }
   ],
   "source": [
    "#Solving the problem using Hierrachical clustering\n",
    "from sklearn.cluster import AgglomerativeClustering\n",
    "import matplotlib.pyplot as plt\n",
    "cities_list = list(dists)\n",
    "dists_num = dists.as_matrix()\n",
    "time_start = time.time()\n",
    "model = AgglomerativeClustering(linkage=\"average\", affinity='precomputed', n_clusters=n_clusters)\n",
    "model.fit(dists_num)\n",
    "\n",
    "#Obtaining centroid of the clusters for the clustering and computing objective value - ugly solution\n",
    "obj_trans_cost = 0\n",
    "heur_DCs = []\n",
    "for i in range(n_clusters):   \n",
    "    current_centroid = ('nill', 1000000)\n",
    "    cities_cluster = cities[model.labels_ == i]\n",
    "    for city in cities_cluster:            \n",
    "        city_total_dist = 0\n",
    "        for city2 in cities_cluster:\n",
    "            if city != city2:\n",
    "                city_ind = cities_list.index(city)\n",
    "                city2_ind = cities_list.index(city2)\n",
    "                city_total_dist += dists_num[city_ind,city2_ind]\n",
    "        if city_total_dist < current_centroid[1]:\n",
    "            current_centroid = (city, city_total_dist)\n",
    "    obj_trans_cost+= current_centroid[1]\n",
    "    heur_DCs.append(current_centroid[0])\n",
    "    print(\"DC %s serves: %s\" % (current_centroid[0], cities_cluster))    \n",
    "elapsed = time.time() - time_start\n",
    "\n",
    "print(\"Obj value %d and it was retrived in %.4fs.\" % (obj_trans_cost, elapsed))"
   ]
  },
  {
   "cell_type": "code",
   "execution_count": 9,
   "metadata": {
    "ExecuteTime": {
     "end_time": "2017-05-22T11:08:37.301359",
     "start_time": "2017-05-22T11:08:37.231172"
    },
    "collapsed": true
   },
   "outputs": [],
   "source": [
    "#show the hierrachical solution on a map\n",
    "gps_coords_heur = gps_coords[gps_coords['Address'].isin(heur_DCs)]\n",
    "show(get_plot_cities(gps_coords, gps_coords_heur, gps_coords_opt))"
   ]
  }
 ],
 "metadata": {
  "anaconda-cloud": {},
  "hide_input": false,
  "kernelspec": {
   "display_name": "Python [default]",
   "language": "python",
   "name": "python3"
  },
  "language_info": {
   "codemirror_mode": {
    "name": "ipython",
    "version": 3
   },
   "file_extension": ".py",
   "mimetype": "text/x-python",
   "name": "python",
   "nbconvert_exporter": "python",
   "pygments_lexer": "ipython3",
   "version": "3.5.2"
  },
  "nbTranslate": {
   "displayLangs": [
    "*"
   ],
   "hotkey": "alt-t",
   "langInMainMenu": true,
   "sourceLang": "en",
   "targetLang": "fr",
   "useGoogleTranslate": true
  },
  "toc": {
   "colors": {
    "hover_highlight": "#DAA520",
    "running_highlight": "#FF0000",
    "selected_highlight": "#FFD700"
   },
   "moveMenuLeft": true,
   "nav_menu": {
    "height": "12px",
    "width": "252px"
   },
   "navigate_menu": true,
   "number_sections": true,
   "sideBar": true,
   "threshold": 4,
   "toc_cell": false,
   "toc_section_display": "block",
   "toc_window_display": false
  }
 },
 "nbformat": 4,
 "nbformat_minor": 1
}
